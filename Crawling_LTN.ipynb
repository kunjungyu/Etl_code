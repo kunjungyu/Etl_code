{
 "cells": [
  {
   "cell_type": "code",
   "execution_count": null,
   "metadata": {
    "collapsed": true
   },
   "outputs": [],
   "source": [
    "#01 TPK    TPK\n",
    "#02 宸鴻\n",
    "#03 景碩    %E6%99%AF%E7%A2%A9\n",
    "#04 甄鼎\n",
    "#05 正崴\n",
    "#06 可成\n",
    "#07 鴻海\n",
    "#08 聯發科\n",
    "#09 日月光\n",
    "#10 台積    %E5%8F%B0%E7%A9%8D\n",
    "#11 大立光"
   ]
  },
  {
   "cell_type": "code",
   "execution_count": 34,
   "metadata": {},
   "outputs": [
    {
     "name": "stdout",
     "output_type": "stream",
     "text": [
      "1\n"
     ]
    }
   ],
   "source": [
    "#001TPK\n",
    "\n",
    "from splinter import Browser\n",
    "import time\n",
    "import requests as r\n",
    "from bs4 import BeautifulSoup\n",
    "browser = Browser('chrome')\n",
    "host = 'http://news.ltn.com.tw/'\n",
    "\n",
    "page = []\n",
    "for p in range(1,2):\n",
    "    url = \"http://news.ltn.com.tw/search/?keyword=TPK&conditions=and&SYear=2017&SMonth=7&SDay=1&EYear=2017&EMonth=8&EDay=31&age={}\"\n",
    "    browser.visit(url)\n",
    "    res = browser.html\n",
    "\n",
    "    soup = BeautifulSoup(res, 'html5lib')\n",
    "    total_list = soup.find_all('a', {'class':'tit'})\n",
    "\n",
    "    for lis in total_list:\n",
    "        page.append(host + lis['href'])\n",
    "    print(p)\n",
    "    \n",
    "with open('D:/Project_ETL/01TPK/list1704.txt','w') as f:\n",
    "     for a in page:\n",
    "         f.write( a + '\\n')\n",
    "\n"
   ]
  },
  {
   "cell_type": "code",
   "execution_count": null,
   "metadata": {
    "collapsed": true
   },
   "outputs": [],
   "source": [
    "#002宸鴻\n",
    "\n",
    "from splinter import Browser\n",
    "import time\n",
    "import requests as r\n",
    "from bs4 import BeautifulSoup\n",
    "browser = Browser('chrome')\n",
    "host = 'http://news.ltn.com.tw/'\n",
    "\n",
    "page = []\n",
    "for p in range(1,3):\n",
    "    url = \"http://news.ltn.com.tw/search/?keyword=TPK&conditions=and&SYear=2013&SMonth=11&SDay=1&EYear=2013&EMonth=12&EDay=31&age={}\"\n",
    "    browser.visit(url)\n",
    "    res = browser.html\n",
    "\n",
    "    soup = BeautifulSoup(res, 'html5lib')\n",
    "    total_list = soup.find_all('a', {'class':'tit'})\n",
    "\n",
    "    for lis in total_list:\n",
    "        page.append(host + lis['href'])\n",
    "    print(p)\n",
    "    \n",
    "with open('D:/Project_ETL/01TPK/list1306.txt','w') as f:\n",
    "     for a in page:\n",
    "         f.write( a + '\\n')\n",
    "\n"
   ]
  },
  {
   "cell_type": "code",
   "execution_count": null,
   "metadata": {
    "collapsed": true
   },
   "outputs": [],
   "source": []
  }
 ],
 "metadata": {
  "kernelspec": {
   "display_name": "Python 3",
   "language": "python",
   "name": "python3"
  },
  "language_info": {
   "codemirror_mode": {
    "name": "ipython",
    "version": 3
   },
   "file_extension": ".py",
   "mimetype": "text/x-python",
   "name": "python",
   "nbconvert_exporter": "python",
   "pygments_lexer": "ipython3",
   "version": "3.6.1"
  }
 },
 "nbformat": 4,
 "nbformat_minor": 2
}
